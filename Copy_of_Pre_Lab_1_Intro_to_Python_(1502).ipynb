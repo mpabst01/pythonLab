{
  "nbformat": 4,
  "nbformat_minor": 0,
  "metadata": {
    "colab": {
      "name": "Copy of Pre-Lab 1: Intro to Python (1502)",
      "provenance": [],
      "collapsed_sections": [],
      "toc_visible": true,
      "include_colab_link": true
    },
    "kernelspec": {
      "name": "python3",
      "display_name": "Python 3"
    }
  },
  "cells": [
    {
      "cell_type": "markdown",
      "metadata": {
        "id": "view-in-github",
        "colab_type": "text"
      },
      "source": [
        "<a href=\"https://colab.research.google.com/github/mpabst01/pythonLab/blob/main/Copy_of_Pre_Lab_1_Intro_to_Python_(1502).ipynb\" target=\"_parent\"><img src=\"https://colab.research.google.com/assets/colab-badge.svg\" alt=\"Open In Colab\"/></a>"
      ]
    },
    {
      "cell_type": "markdown",
      "metadata": {
        "id": "I6AhwW2EffYJ"
      },
      "source": [
        "<h1><center>$\\text{Pre-Lab 1: Introduction to Python}$</center></h1>"
      ]
    },
    {
      "cell_type": "code",
      "metadata": {
        "id": "2kfwyUcv0xWQ"
      },
      "source": [
        "#@title <font color=\"red\"> Make a copy of this file before proceeding!\n",
        "Section = \"001 - MoWeTh 10:10am-12:05pm\" #@param [\"Select your section\", \"001 - MoWeTh 10:10am-12:05pm\", \"002 - MoWeTh 12:20pm-2:15pm\", \"003 - MoWeTh 2:30pm-4:25pm\", \"004 - MoWeTh 4:40pm-6:35pm\", \"005 - TuThFr 8am-9:55am\", \"006 - TuThFr 10:10am-12:05pm\", \"007 - TuThFr 12:20pm-2:15pm\"]\n",
        "Name = \"Marylee Pabst\" #@param {type:\"string\"}"
      ],
      "execution_count": null,
      "outputs": []
    },
    {
      "cell_type": "markdown",
      "metadata": {
        "id": "UexjXw1qvxM0"
      },
      "source": [
        "This pre-lab is a review of material you have used in previous courses.  For a full review of Python, see the \"Introduction to Python\" sections of your lab manual."
      ]
    },
    {
      "cell_type": "markdown",
      "metadata": {
        "id": "xI6o3Zvu1ueS"
      },
      "source": [
        "\n",
        "\n",
        "---\n",
        "\n",
        "# $\\text{Basics}$\n",
        "\n",
        "---\n",
        "\n"
      ]
    },
    {
      "cell_type": "markdown",
      "metadata": {
        "id": "SiZpDuohe82J"
      },
      "source": [
        "\n",
        "\n",
        "---\n",
        "\n",
        "## $\\text{Datatypes}$\n",
        "\n",
        "---\n",
        "\n"
      ]
    },
    {
      "cell_type": "markdown",
      "metadata": {
        "id": "IoI_8uRFe_XI"
      },
      "source": [
        "There are three types of data you'll use in ```Python```: strings, integers, and floats.  **Strings** are a string of characters surrounded by quotation marks.  You will be using strings as labels.  Below is an example of a string:"
      ]
    },
    {
      "cell_type": "code",
      "metadata": {
        "id": "_BBNNNjkfze1"
      },
      "source": [
        "\"hello, world\""
      ],
      "execution_count": null,
      "outputs": []
    },
    {
      "cell_type": "markdown",
      "metadata": {
        "id": "8DxRY8c0f3kl"
      },
      "source": [
        "**Integers** are whole numbers that can be positive or negative.  They are just numbers without decimal points.  Below are an example of an integer:"
      ]
    },
    {
      "cell_type": "code",
      "metadata": {
        "id": "11c3fCJdgh-c"
      },
      "source": [
        "36"
      ],
      "execution_count": null,
      "outputs": []
    },
    {
      "cell_type": "markdown",
      "metadata": {
        "id": "Xsazk5FBgkwk"
      },
      "source": [
        "**Floats** (which is shorthand for **floating point numbers**) are numbers that utilize a decimal point.  Below is an example of a float:"
      ]
    },
    {
      "cell_type": "code",
      "metadata": {
        "id": "udf0fv_thDQM"
      },
      "source": [
        "4.156"
      ],
      "execution_count": null,
      "outputs": []
    },
    {
      "cell_type": "markdown",
      "metadata": {
        "id": "Wq2VA_ylhRt6"
      },
      "source": [
        "> **PL Q1. Does the code below contain a string, integer, or a float?**\n",
        "\n"
      ]
    },
    {
      "cell_type": "code",
      "metadata": {
        "id": "_4ymPuZ_hQCL"
      },
      "source": [
        "\"44.3\""
      ],
      "execution_count": null,
      "outputs": []
    },
    {
      "cell_type": "code",
      "metadata": {
        "id": "5bHqbVDAhbte"
      },
      "source": [
        "PL_Q1 = \"String\" #@param {type:\"string\"}\n",
        "\n"
      ],
      "execution_count": null,
      "outputs": []
    },
    {
      "cell_type": "markdown",
      "metadata": {
        "id": "k_pBDSnJ17dq"
      },
      "source": [
        "\n",
        "\n",
        "---\n",
        "\n",
        "## $\\text{Calculator}$\n",
        "\n",
        "---\n",
        "\n"
      ]
    },
    {
      "cell_type": "markdown",
      "metadata": {
        "id": "em0F2G_e4Bie"
      },
      "source": [
        "Python can function as an ordinary calculator.  You can add, subtract, multiply, and divide numbers."
      ]
    },
    {
      "cell_type": "markdown",
      "metadata": {
        "id": "iRS3svKu4Puc"
      },
      "source": [
        "Execute the input cells below (Shift+Enter)."
      ]
    },
    {
      "cell_type": "code",
      "metadata": {
        "id": "CR3vSSI_4gOs",
        "colab": {
          "base_uri": "https://localhost:8080/"
        },
        "outputId": "6021f4a2-8090-4284-c4b8-a0ca74a68401"
      },
      "source": [
        "3*10/2"
      ],
      "execution_count": null,
      "outputs": [
        {
          "output_type": "execute_result",
          "data": {
            "text/plain": [
              "15.0"
            ]
          },
          "metadata": {},
          "execution_count": 1
        }
      ]
    },
    {
      "cell_type": "markdown",
      "metadata": {
        "id": "Q9d8_92zvN8W"
      },
      "source": [
        "Unlike your calculator, ```Python``` must be told when to multiply by using an asterisk ```*```, even when parentheses are present.  Running the cell below will result in an error message and will point to the line of code that needs to be fixed."
      ]
    },
    {
      "cell_type": "code",
      "metadata": {
        "id": "-GC2g-XHvNJH",
        "colab": {
          "base_uri": "https://localhost:8080/",
          "height": 164
        },
        "outputId": "9c2bc39c-774e-4c89-cf66-f8a60c5be81f"
      },
      "source": [
        "5(3+2)"
      ],
      "execution_count": null,
      "outputs": [
        {
          "output_type": "error",
          "ename": "TypeError",
          "evalue": "ignored",
          "traceback": [
            "\u001b[0;31m---------------------------------------------------------------------------\u001b[0m",
            "\u001b[0;31mTypeError\u001b[0m                                 Traceback (most recent call last)",
            "\u001b[0;32m<ipython-input-2-0b4cf62727b3>\u001b[0m in \u001b[0;36m<module>\u001b[0;34m()\u001b[0m\n\u001b[0;32m----> 1\u001b[0;31m \u001b[0;36m5\u001b[0m\u001b[0;34m(\u001b[0m\u001b[0;36m3\u001b[0m\u001b[0;34m+\u001b[0m\u001b[0;36m2\u001b[0m\u001b[0;34m)\u001b[0m\u001b[0;34m\u001b[0m\u001b[0;34m\u001b[0m\u001b[0m\n\u001b[0m",
            "\u001b[0;31mTypeError\u001b[0m: 'int' object is not callable"
          ]
        }
      ]
    },
    {
      "cell_type": "markdown",
      "metadata": {
        "id": "DuTQOIW04vKb"
      },
      "source": [
        "To perform exponential operations, ```Python``` uses the format ```**``` to represent ```^```, which is the symbol used by most calculators."
      ]
    },
    {
      "cell_type": "code",
      "metadata": {
        "id": "0HdDMgyU4scz",
        "colab": {
          "base_uri": "https://localhost:8080/"
        },
        "outputId": "0e696355-2e9a-4819-dd1e-f9b3a2d2e817"
      },
      "source": [
        "(3**2+1)/2"
      ],
      "execution_count": null,
      "outputs": [
        {
          "output_type": "execute_result",
          "data": {
            "text/plain": [
              "5.0"
            ]
          },
          "metadata": {},
          "execution_count": 3
        }
      ]
    },
    {
      "cell_type": "markdown",
      "metadata": {
        "id": "5vcYEf9b5Lq6"
      },
      "source": [
        "Proper use of parenthesis is important. The expression above different than the expression below. Use Shift+Enter to execute."
      ]
    },
    {
      "cell_type": "code",
      "metadata": {
        "id": "jv53xar35PDU",
        "colab": {
          "base_uri": "https://localhost:8080/"
        },
        "outputId": "87384799-d817-4477-b410-81059870d235"
      },
      "source": [
        "3**2+1/2"
      ],
      "execution_count": null,
      "outputs": [
        {
          "output_type": "execute_result",
          "data": {
            "text/plain": [
              "9.5"
            ]
          },
          "metadata": {},
          "execution_count": 4
        }
      ]
    },
    {
      "cell_type": "markdown",
      "metadata": {
        "id": "nNw2B13ZcVjU"
      },
      "source": [
        "> **PL Q2. Calculate $$\\left(\\frac{1}{2^5+1}\\right)*2$$ in the code block below, and write the answer in the text box:**"
      ]
    },
    {
      "cell_type": "code",
      "metadata": {
        "id": "r99RikhJcrm_",
        "colab": {
          "base_uri": "https://localhost:8080/"
        },
        "outputId": "5cf8b166-ed00-4ece-dfbe-68550c861cd0"
      },
      "source": [
        "(1/((2**5) + 1)) * 2"
      ],
      "execution_count": null,
      "outputs": [
        {
          "output_type": "execute_result",
          "data": {
            "text/plain": [
              "0.06060606060606061"
            ]
          },
          "metadata": {},
          "execution_count": 9
        }
      ]
    },
    {
      "cell_type": "code",
      "metadata": {
        "id": "m91rlv5hdogf"
      },
      "source": [
        "PL_Q2 = \"0.06060606060606061\" #@param {type:\"string\"}\n",
        "\n"
      ],
      "execution_count": null,
      "outputs": []
    },
    {
      "cell_type": "markdown",
      "metadata": {
        "id": "d66SySOP_GDL"
      },
      "source": [
        "\n",
        "\n",
        "---\n",
        "\n",
        "## $\\text{Packages}$\n",
        "\n",
        "---\n",
        "\n"
      ]
    },
    {
      "cell_type": "markdown",
      "metadata": {
        "id": "zrvalxbYrE03"
      },
      "source": [
        "Now, lets try writing some code. Unlike MATLAB or Mathematica, ```Python``` is open-source, meaning anyone can contribute there own modules that are useful for certain tasks. We will mainly be using ```numpy```, which is a Python-based ecosystem of open-source software for mathematics. In ```Python``` we use the ```import``` command to let Colab know where we want to import from."
      ]
    },
    {
      "cell_type": "code",
      "metadata": {
        "id": "t5XF0CTEeruf"
      },
      "source": [
        "import numpy as np"
      ],
      "execution_count": null,
      "outputs": []
    },
    {
      "cell_type": "markdown",
      "metadata": {
        "id": "010fQM5guLtm"
      },
      "source": [
        "Now that ```numpy``` is loaded, let's start to do some basic calculations.  We can call on ```numpy``` functions using the command ```np.``` in our code."
      ]
    },
    {
      "cell_type": "code",
      "metadata": {
        "id": "VMZ1WcWyAGFy",
        "colab": {
          "base_uri": "https://localhost:8080/"
        },
        "outputId": "cf19c1b2-0923-48dc-a67f-cbf259e8d72e"
      },
      "source": [
        "np.cos(0)"
      ],
      "execution_count": null,
      "outputs": [
        {
          "output_type": "execute_result",
          "data": {
            "text/plain": [
              "1.0"
            ]
          },
          "metadata": {},
          "execution_count": 12
        }
      ]
    },
    {
      "cell_type": "code",
      "metadata": {
        "id": "cIn73O2mAPBC",
        "colab": {
          "base_uri": "https://localhost:8080/"
        },
        "outputId": "fb262ca8-7241-475d-b11f-ebc32ec3562b"
      },
      "source": [
        "np.exp(3)"
      ],
      "execution_count": null,
      "outputs": [
        {
          "output_type": "execute_result",
          "data": {
            "text/plain": [
              "20.085536923187668"
            ]
          },
          "metadata": {},
          "execution_count": 13
        }
      ]
    },
    {
      "cell_type": "code",
      "metadata": {
        "id": "o35gzoqfATB6",
        "colab": {
          "base_uri": "https://localhost:8080/"
        },
        "outputId": "df8ebc4e-7d23-4fad-bb42-1bb96ac9211b"
      },
      "source": [
        "np.sqrt(9)"
      ],
      "execution_count": null,
      "outputs": [
        {
          "output_type": "execute_result",
          "data": {
            "text/plain": [
              "3.0"
            ]
          },
          "metadata": {},
          "execution_count": 14
        }
      ]
    },
    {
      "cell_type": "markdown",
      "metadata": {
        "id": "wWt_FopZAZXy"
      },
      "source": [
        "In this example, ```log(x)``` denotes the natural log, $\\ln(x)$, while ```log10(x)``` denotes $\\log_{10}(x)$."
      ]
    },
    {
      "cell_type": "code",
      "metadata": {
        "id": "oDDMOb8ZAVyU",
        "colab": {
          "base_uri": "https://localhost:8080/"
        },
        "outputId": "8732666f-5b05-49f7-80be-bd93d2b5114b"
      },
      "source": [
        "np.log(2)"
      ],
      "execution_count": null,
      "outputs": [
        {
          "output_type": "execute_result",
          "data": {
            "text/plain": [
              "0.6931471805599453"
            ]
          },
          "metadata": {},
          "execution_count": 15
        }
      ]
    },
    {
      "cell_type": "code",
      "metadata": {
        "id": "-DgxbXaWAX0y",
        "colab": {
          "base_uri": "https://localhost:8080/"
        },
        "outputId": "61464f0f-46de-4814-e1d5-e1a499013993"
      },
      "source": [
        "np.log10(2)"
      ],
      "execution_count": null,
      "outputs": [
        {
          "output_type": "execute_result",
          "data": {
            "text/plain": [
              "0.3010299956639812"
            ]
          },
          "metadata": {},
          "execution_count": 16
        }
      ]
    },
    {
      "cell_type": "markdown",
      "metadata": {
        "id": "LyR-f8cVeL1D"
      },
      "source": [
        "> **PL Q3. Calculate $$\\sqrt{2}e^{-5/3}$$ in the code block below, and write the answer in the text box:**"
      ]
    },
    {
      "cell_type": "code",
      "metadata": {
        "id": "uGxbY-LmeN5p",
        "colab": {
          "base_uri": "https://localhost:8080/"
        },
        "outputId": "a41610e2-71e4-439e-c610-f14eef9c2e34"
      },
      "source": [
        "(np.sqrt(2) * (2.718281 ** (-5/3)))"
      ],
      "execution_count": null,
      "outputs": [
        {
          "output_type": "execute_result",
          "data": {
            "text/plain": [
              "0.26711057481443495"
            ]
          },
          "metadata": {},
          "execution_count": 18
        }
      ]
    },
    {
      "cell_type": "code",
      "metadata": {
        "id": "pB7erlxoeP_9",
        "cellView": "form"
      },
      "source": [
        "PL_Q3 = \"0.26711057481443495\" #@param {type:\"string\"}\n",
        "\n"
      ],
      "execution_count": null,
      "outputs": []
    },
    {
      "cell_type": "markdown",
      "metadata": {
        "id": "Jp-nSeeuBmGs"
      },
      "source": [
        "\n",
        "\n",
        "---\n",
        "\n",
        "# $\\text{Defining Variables}$\n",
        "\n",
        "---\n",
        "\n"
      ]
    },
    {
      "cell_type": "markdown",
      "metadata": {
        "id": "C8h7LzpmBrYL"
      },
      "source": [
        "To define variables, we simply use ```=``` ."
      ]
    },
    {
      "cell_type": "markdown",
      "metadata": {
        "id": "NN8rBtAVxEly"
      },
      "source": [
        "Let's write a line of code to find the square root of the sum of two squares,  ```a``` and ```b```, and store the result as a variable, ```c```, as well.\n",
        "$$c = \\sqrt{a^{2} + b^{2}}$$"
      ]
    },
    {
      "cell_type": "code",
      "metadata": {
        "id": "C7bbgCsbfS0Y"
      },
      "source": [
        "a = 3\n",
        "b = 4\n",
        "\n",
        "c = np.sqrt(a**2 + b**2)"
      ],
      "execution_count": null,
      "outputs": []
    },
    {
      "cell_type": "markdown",
      "metadata": {
        "id": "71v-o2AyysCO"
      },
      "source": [
        "As you can see, although we stored our computation we haven't yet been shown the result. To do this we can use the ```print()``` function to display the variable ```c```."
      ]
    },
    {
      "cell_type": "code",
      "metadata": {
        "id": "ZF9v7LTzfTMJ",
        "colab": {
          "base_uri": "https://localhost:8080/"
        },
        "outputId": "a061454e-291f-4240-8546-2407ea67259a"
      },
      "source": [
        "print(c)"
      ],
      "execution_count": null,
      "outputs": [
        {
          "output_type": "stream",
          "name": "stdout",
          "text": [
            "5.0\n"
          ]
        }
      ]
    },
    {
      "cell_type": "markdown",
      "metadata": {
        "id": "mGA-bw1f2sQy"
      },
      "source": [
        "\n",
        "\n",
        "---\n",
        "\n",
        "# $\\text{Creating Functions}$\n",
        "\n",
        "---\n",
        "\n"
      ]
    },
    {
      "cell_type": "markdown",
      "metadata": {
        "id": "wZxTyWxR3Qf7"
      },
      "source": [
        "Now that we have seen functions from ```numpy``` to perform calculations, let's write a function of our own. Execute the cell below to define the function $f(x)=x^2$."
      ]
    },
    {
      "cell_type": "code",
      "metadata": {
        "id": "fIds19fW3LvH"
      },
      "source": [
        "def testfunction(x):\n",
        "  return x**2"
      ],
      "execution_count": null,
      "outputs": []
    },
    {
      "cell_type": "markdown",
      "metadata": {
        "id": "k_MKQSxF7WaA"
      },
      "source": [
        "Test out the ```testfunction```."
      ]
    },
    {
      "cell_type": "code",
      "metadata": {
        "id": "FnLPhWJH3xlR",
        "colab": {
          "base_uri": "https://localhost:8080/"
        },
        "outputId": "262d2465-c06b-40c7-b1a6-4783250557ab"
      },
      "source": [
        "testfunction(3)"
      ],
      "execution_count": null,
      "outputs": [
        {
          "output_type": "execute_result",
          "data": {
            "text/plain": [
              "9"
            ]
          },
          "metadata": {},
          "execution_count": 23
        }
      ]
    },
    {
      "cell_type": "code",
      "metadata": {
        "id": "pNgOh0it7nxr",
        "colab": {
          "base_uri": "https://localhost:8080/"
        },
        "outputId": "57885d42-bc35-45d4-a051-cbdd87bbc643"
      },
      "source": [
        "testfunction(5.5)"
      ],
      "execution_count": null,
      "outputs": [
        {
          "output_type": "execute_result",
          "data": {
            "text/plain": [
              "30.25"
            ]
          },
          "metadata": {},
          "execution_count": 24
        }
      ]
    },
    {
      "cell_type": "markdown",
      "metadata": {
        "id": "oCJwbNDo7ruJ"
      },
      "source": [
        "Here, we create a function of a single variable named ```myfunction``` which represents $f(x)=\\dfrac{1}{x}+x$. Then evaluate the function at $x=5$."
      ]
    },
    {
      "cell_type": "code",
      "metadata": {
        "id": "xyS_d_7-7-Lh",
        "colab": {
          "base_uri": "https://localhost:8080/"
        },
        "outputId": "b64d4c71-5b06-4b92-acac-da8c4c476f53"
      },
      "source": [
        "def myfunction(x):\n",
        "  return 1/x+x\n",
        "\n",
        "myfunction(5)"
      ],
      "execution_count": null,
      "outputs": [
        {
          "output_type": "execute_result",
          "data": {
            "text/plain": [
              "5.2"
            ]
          },
          "metadata": {},
          "execution_count": 25
        }
      ]
    },
    {
      "cell_type": "markdown",
      "metadata": {
        "id": "BNO49OPWxoj7"
      },
      "source": [
        "> **PL Q4.  In the code below, write a fuction ``myaverage()`` to calculate the average of two variables ``v`` and ``w``.**"
      ]
    },
    {
      "cell_type": "code",
      "metadata": {
        "id": "zT8f-sNXyFDR"
      },
      "source": [
        "def myaverage(v,w):\n",
        "  return (v+w)/2"
      ],
      "execution_count": null,
      "outputs": []
    },
    {
      "cell_type": "markdown",
      "metadata": {
        "id": "SWwIJtoKyN7_"
      },
      "source": [
        "> **Test your function by calculting the average of $v = 13$ and $w = 91$.  Write the answer in the text box:**"
      ]
    },
    {
      "cell_type": "code",
      "metadata": {
        "id": "a6esRGUV3VgN",
        "colab": {
          "base_uri": "https://localhost:8080/"
        },
        "outputId": "bcce9b03-a39d-4566-97c2-c0110e1b1654"
      },
      "source": [
        "v = 13\n",
        "w = 91\n",
        "\n",
        "myaverage(v,w)"
      ],
      "execution_count": null,
      "outputs": [
        {
          "output_type": "execute_result",
          "data": {
            "text/plain": [
              "52.0"
            ]
          },
          "metadata": {},
          "execution_count": 32
        }
      ]
    },
    {
      "cell_type": "code",
      "metadata": {
        "id": "wjDWNJROybon",
        "cellView": "form"
      },
      "source": [
        "PL_Q4 = \"52\" #@param {type:\"string\"}\n",
        "\n"
      ],
      "execution_count": null,
      "outputs": []
    },
    {
      "cell_type": "markdown",
      "metadata": {
        "id": "wy4fsPxFKxZE"
      },
      "source": [
        "\n",
        "\n",
        "---\n",
        "\n",
        "# $\\text{Lists}$\n",
        "\n",
        "---\n",
        "\n"
      ]
    },
    {
      "cell_type": "markdown",
      "metadata": {
        "id": "mM6p9zwrK2ga"
      },
      "source": [
        "In future labs, we will acquire large amounts of data in the form of lists or arrays. ```Python``` takes a ordered list (1, 2, 3, 4, 5) using the syntax ```[i_1, i_2, ..., i_n]```. Note the form of the list."
      ]
    },
    {
      "cell_type": "code",
      "metadata": {
        "id": "dx9RHNbYLUCx",
        "cellView": "both"
      },
      "source": [
        "mylist = [1,2,3,4,5]"
      ],
      "execution_count": null,
      "outputs": []
    },
    {
      "cell_type": "markdown",
      "metadata": {
        "id": "UBpIjpxQoCIL"
      },
      "source": [
        "---\n",
        "---\n",
        "---"
      ]
    },
    {
      "cell_type": "code",
      "metadata": {
        "id": "FhfrKul95bL3",
        "colab": {
          "base_uri": "https://localhost:8080/",
          "height": 266
        },
        "outputId": "0bda546e-a6a5-4d48-dfda-452dbd7d1bbf"
      },
      "source": [
        "#@title <font color=\"blue\">  To receive FULL CREDIT, you MUST run this cell AFTER completing the lab and upload the PDF file to HuskyCT. To access the PDF, click on the \"File\" icon in the toolbar to the left.\n",
        "!pip install reportlab\n",
        "import datetime\n",
        "\n",
        "from reportlab.lib import colors\n",
        "from reportlab.lib.pagesizes import letter, inch, portrait\n",
        "from reportlab.platypus import SimpleDocTemplate, Table, TableStyle, Paragraph\n",
        "from reportlab.lib.styles import getSampleStyleSheet\n",
        "\n",
        "Course_Number = \"1502Q\"\n",
        "PreLab_Number = \"PL01\"\n",
        "file_timestamp = datetime.datetime.today().strftime('%Y-%m')\n",
        "Section_Number = (Section)[0:3]\n",
        "\n",
        "doc = SimpleDocTemplate(str(file_timestamp)+\"_\"+str(Course_Number)+\n",
        "                        str(Section_Number)+\"_\"+str(PreLab_Number)+\n",
        "                        \"_\"+str(Name)+\".pdf\",\n",
        "                        pagesize=letter, rightMargin=50,\n",
        "                        leftMargin=50, topMargin=50,bottomMargin=50)\n",
        "doc.pagesize = portrait(letter)\n",
        "elements = []\n",
        "\n",
        "timestamp = datetime.datetime.now().isoformat()\n",
        "\n",
        "data = [\n",
        "[\"Name:\", Name],\n",
        "[\"timestamp:\", timestamp],\n",
        "[\"Course_Number:\", Course_Number],\n",
        "[\"Section_Number:\", Section_Number],\n",
        "[\"PreLab_Number:\", PreLab_Number],\n",
        "[\"PL Q1:\", PL_Q1],\n",
        "[\"PL Q2:\", PL_Q2],\n",
        "[\"PL Q3:\", PL_Q3],\n",
        "[\"PL Q4:\", PL_Q4],\n",
        "#[\"Q5:\", Q5],\n",
        "]\n",
        "\n",
        "#TODO: Get this line right instead of just copying it from the docs\n",
        "style = TableStyle([('ALIGN',(1,1),(-2,-2),'RIGHT'),\n",
        "                       ('TEXTCOLOR',(1,1),(-2,-2),colors.red),\n",
        "                       ('VALIGN',(0,0),(0,-1),'TOP'),\n",
        "                       ('TEXTCOLOR',(0,0),(0,-1),colors.blue),\n",
        "                       ('ALIGN',(0,-1),(-1,-1),'CENTER'),\n",
        "                       ('VALIGN',(0,-1),(-1,-1),'MIDDLE'),\n",
        "                       ('TEXTCOLOR',(0,-1),(-1,-1),colors.green),\n",
        "                       ('INNERGRID', (0,0), (-1,-1), 0.25, colors.black),\n",
        "                       ('BOX', (0,0), (-1,-1), 0.25, colors.black),\n",
        "                       ])\n",
        "\n",
        "#Configure style and word wrap\n",
        "s = getSampleStyleSheet()\n",
        "s = s[\"BodyText\"]\n",
        "s.wordWrap = 'CJK'\n",
        "data2 = [[Paragraph(cell, s) for cell in row] for row in data]\n",
        "t=Table(data2,colWidths=(100,None))\n",
        "t.setStyle(style)\n",
        "\n",
        "#Send the data and build the file\n",
        "elements.append(t)\n",
        "doc.build(elements)"
      ],
      "execution_count": null,
      "outputs": [
        {
          "output_type": "stream",
          "name": "stdout",
          "text": [
            "Requirement already satisfied: reportlab in /usr/local/lib/python3.7/dist-packages (3.6.1)\n",
            "Requirement already satisfied: pillow>=4.0.0 in /usr/local/lib/python3.7/dist-packages (from reportlab) (7.1.2)\n"
          ]
        },
        {
          "output_type": "error",
          "ename": "NameError",
          "evalue": "ignored",
          "traceback": [
            "\u001b[0;31m---------------------------------------------------------------------------\u001b[0m",
            "\u001b[0;31mNameError\u001b[0m                                 Traceback (most recent call last)",
            "\u001b[0;32m<ipython-input-38-009e48606aee>\u001b[0m in \u001b[0;36m<module>\u001b[0;34m()\u001b[0m\n\u001b[1;32m     29\u001b[0m \u001b[0;34m[\u001b[0m\u001b[0;34m\"Section_Number:\"\u001b[0m\u001b[0;34m,\u001b[0m \u001b[0mSection_Number\u001b[0m\u001b[0;34m]\u001b[0m\u001b[0;34m,\u001b[0m\u001b[0;34m\u001b[0m\u001b[0;34m\u001b[0m\u001b[0m\n\u001b[1;32m     30\u001b[0m \u001b[0;34m[\u001b[0m\u001b[0;34m\"PreLab_Number:\"\u001b[0m\u001b[0;34m,\u001b[0m \u001b[0mPreLab_Number\u001b[0m\u001b[0;34m]\u001b[0m\u001b[0;34m,\u001b[0m\u001b[0;34m\u001b[0m\u001b[0;34m\u001b[0m\u001b[0m\n\u001b[0;32m---> 31\u001b[0;31m \u001b[0;34m[\u001b[0m\u001b[0;34m\"PL Q1:\"\u001b[0m\u001b[0;34m,\u001b[0m \u001b[0mPL_Q1\u001b[0m\u001b[0;34m]\u001b[0m\u001b[0;34m,\u001b[0m\u001b[0;34m\u001b[0m\u001b[0;34m\u001b[0m\u001b[0m\n\u001b[0m\u001b[1;32m     32\u001b[0m \u001b[0;34m[\u001b[0m\u001b[0;34m\"PL Q2:\"\u001b[0m\u001b[0;34m,\u001b[0m \u001b[0mPL_Q2\u001b[0m\u001b[0;34m]\u001b[0m\u001b[0;34m,\u001b[0m\u001b[0;34m\u001b[0m\u001b[0;34m\u001b[0m\u001b[0m\n\u001b[1;32m     33\u001b[0m \u001b[0;34m[\u001b[0m\u001b[0;34m\"PL Q3:\"\u001b[0m\u001b[0;34m,\u001b[0m \u001b[0mPL_Q3\u001b[0m\u001b[0;34m]\u001b[0m\u001b[0;34m,\u001b[0m\u001b[0;34m\u001b[0m\u001b[0;34m\u001b[0m\u001b[0m\n",
            "\u001b[0;31mNameError\u001b[0m: name 'PL_Q1' is not defined"
          ]
        }
      ]
    }
  ]
}